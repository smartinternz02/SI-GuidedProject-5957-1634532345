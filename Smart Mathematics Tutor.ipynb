{
 "cells": [
  {
   "cell_type": "code",
   "execution_count": 1,
   "metadata": {},
   "outputs": [],
   "source": [
    "import pandas as pd\n",
    "import numpy as np"
   ]
  },
  {
   "cell_type": "code",
   "execution_count": 2,
   "metadata": {
    "scrolled": true
   },
   "outputs": [
    {
     "name": "stdout",
     "output_type": "stream",
     "text": [
      "Note: you may need to restart the kernel to use updated packages.\n"
     ]
    },
    {
     "name": "stderr",
     "output_type": "stream",
     "text": [
      "\n",
      "Usage:   \n",
      "  C:\\Users\\pavan\\anaconda3\\python.exe -m pip install [options] <requirement specifier> [package-index-options] ...\n",
      "  C:\\Users\\pavan\\anaconda3\\python.exe -m pip install [options] -r <requirements file> [package-index-options] ...\n",
      "  C:\\Users\\pavan\\anaconda3\\python.exe -m pip install [options] [-e] <vcs project url> ...\n",
      "  C:\\Users\\pavan\\anaconda3\\python.exe -m pip install [options] [-e] <local project path> ...\n",
      "  C:\\Users\\pavan\\anaconda3\\python.exe -m pip install [options] <archive url/path> ...\n",
      "\n",
      "ambiguous option: --upgrad (--upgrade, --upgrade-strategy?)\n"
     ]
    }
   ],
   "source": [
    "pip install tensorflow --upgrad"
   ]
  },
  {
   "cell_type": "code",
   "execution_count": 3,
   "metadata": {},
   "outputs": [],
   "source": [
    "from tensorflow.keras.models import Sequential\n",
    "from tensorflow.keras.layers import Dense, Convolution2D, MaxPooling2D, Flatten, Dropout"
   ]
  },
  {
   "cell_type": "code",
   "execution_count": 4,
   "metadata": {},
   "outputs": [],
   "source": [
    "from tensorflow.keras.preprocessing .image import ImageDataGenerator"
   ]
  },
  {
   "cell_type": "code",
   "execution_count": 5,
   "metadata": {},
   "outputs": [],
   "source": [
    "train_datagen = ImageDataGenerator(rescale = 1./255, shear_range = 0.2, zoom_range = 0.2, horizontal_flip = True)\n",
    "test_datagen = ImageDataGenerator(rescale = 1./255)"
   ]
  },
  {
   "cell_type": "code",
   "execution_count": 9,
   "metadata": {},
   "outputs": [
    {
     "name": "stdout",
     "output_type": "stream",
     "text": [
      "Found 10941 images belonging to 3 classes.\n",
      "Found 300 images belonging to 3 classes.\n"
     ]
    }
   ],
   "source": [
    "x_train = train_datagen.flow_from_directory(r\"D:\\Smart Mathematics Tutor\\train\",target_size = (64,64),batch_size = 32,class_mode = \"categorical\")\n",
    "\n",
    "x_test = test_datagen.flow_from_directory(r\"D:\\Smart Mathematics Tutor\\test\",target_size = (64,64),batch_size = 32,class_mode = \"categorical\")\n"
   ]
  },
  {
   "cell_type": "code",
   "execution_count": 10,
   "metadata": {},
   "outputs": [
    {
     "data": {
      "text/plain": [
       "{'circle': 0, 'square': 1, 'triangle': 2}"
      ]
     },
     "execution_count": 10,
     "metadata": {},
     "output_type": "execute_result"
    }
   ],
   "source": [
    "x_train.class_indices"
   ]
  },
  {
   "cell_type": "code",
   "execution_count": 11,
   "metadata": {},
   "outputs": [],
   "source": [
    "model = Sequential()"
   ]
  },
  {
   "cell_type": "code",
   "execution_count": 12,
   "metadata": {},
   "outputs": [],
   "source": [
    "model.add(Convolution2D(32,(3,3),input_shape = (64,64,3)))"
   ]
  },
  {
   "cell_type": "code",
   "execution_count": 13,
   "metadata": {},
   "outputs": [],
   "source": [
    "model.add(MaxPooling2D((2,2)))"
   ]
  },
  {
   "cell_type": "code",
   "execution_count": 14,
   "metadata": {},
   "outputs": [],
   "source": [
    "model.add(Flatten())"
   ]
  },
  {
   "cell_type": "code",
   "execution_count": 15,
   "metadata": {},
   "outputs": [],
   "source": [
    "model.add(Dense(units = 128, kernel_initializer= \"random_uniform\",activation = \"relu\"))"
   ]
  },
  {
   "cell_type": "code",
   "execution_count": 16,
   "metadata": {},
   "outputs": [],
   "source": [
    "model.add(Dense(units = 3 , kernel_initializer= \"random_uniform\",activation = \"softmax\"))"
   ]
  },
  {
   "cell_type": "code",
   "execution_count": 17,
   "metadata": {},
   "outputs": [],
   "source": [
    "model.compile(optimizer= \"adam\",loss = \"categorical_crossentropy\" , metrics =[\"accuracy\"])"
   ]
  },
  {
   "cell_type": "code",
   "execution_count": 18,
   "metadata": {},
   "outputs": [
    {
     "name": "stderr",
     "output_type": "stream",
     "text": [
      "<ipython-input-18-d82336636796>:1: UserWarning: `Model.fit_generator` is deprecated and will be removed in a future version. Please use `Model.fit`, which supports generators.\n",
      "  model.fit_generator(x_train,steps_per_epoch = 342 , epochs = 100 , validation_data = x_test,validation_steps = 10)\n"
     ]
    },
    {
     "name": "stdout",
     "output_type": "stream",
     "text": [
      "Epoch 1/100\n",
      "342/342 [==============================] - 63s 182ms/step - loss: 0.3087 - accuracy: 0.8849 - val_loss: 0.0156 - val_accuracy: 1.0000\n",
      "Epoch 2/100\n",
      "342/342 [==============================] - 47s 138ms/step - loss: 0.0469 - accuracy: 0.9873 - val_loss: 9.6489e-04 - val_accuracy: 1.0000\n",
      "Epoch 3/100\n",
      "342/342 [==============================] - 47s 137ms/step - loss: 0.0202 - accuracy: 0.9947 - val_loss: 0.0013 - val_accuracy: 1.0000\n",
      "Epoch 4/100\n",
      "342/342 [==============================] - 48s 140ms/step - loss: 0.0086 - accuracy: 0.9979 - val_loss: 0.0011 - val_accuracy: 1.0000\n",
      "Epoch 5/100\n",
      "342/342 [==============================] - 48s 140ms/step - loss: 0.0050 - accuracy: 0.9988 - val_loss: 5.1431e-05 - val_accuracy: 1.0000\n",
      "Epoch 6/100\n",
      "342/342 [==============================] - 47s 136ms/step - loss: 0.0016 - accuracy: 0.9998 - val_loss: 2.6481e-05 - val_accuracy: 1.0000\n",
      "Epoch 7/100\n",
      "342/342 [==============================] - 48s 139ms/step - loss: 0.0024 - accuracy: 0.9995 - val_loss: 1.8214e-05 - val_accuracy: 1.0000\n",
      "Epoch 8/100\n",
      "342/342 [==============================] - 52s 151ms/step - loss: 5.4611e-04 - accuracy: 1.0000 - val_loss: 5.3823e-06 - val_accuracy: 1.0000\n",
      "Epoch 9/100\n",
      "342/342 [==============================] - 47s 137ms/step - loss: 0.0015 - accuracy: 0.9995 - val_loss: 1.3620e-05 - val_accuracy: 1.0000\n",
      "Epoch 10/100\n",
      "342/342 [==============================] - 47s 138ms/step - loss: 0.0067 - accuracy: 0.9982 - val_loss: 6.8656e-06 - val_accuracy: 1.0000\n",
      "Epoch 11/100\n",
      "342/342 [==============================] - 47s 137ms/step - loss: 0.0030 - accuracy: 0.9995 - val_loss: 2.8371e-04 - val_accuracy: 1.0000\n",
      "Epoch 12/100\n",
      "342/342 [==============================] - 47s 137ms/step - loss: 0.0017 - accuracy: 0.9994 - val_loss: 7.8837e-07 - val_accuracy: 1.0000\n",
      "Epoch 13/100\n",
      "342/342 [==============================] - 47s 136ms/step - loss: 2.5118e-04 - accuracy: 1.0000 - val_loss: 7.9274e-07 - val_accuracy: 1.0000\n",
      "Epoch 14/100\n",
      "342/342 [==============================] - 47s 137ms/step - loss: 7.8745e-05 - accuracy: 1.0000 - val_loss: 2.7180e-07 - val_accuracy: 1.0000\n",
      "Epoch 15/100\n",
      "342/342 [==============================] - 47s 139ms/step - loss: 0.0130 - accuracy: 0.9957 - val_loss: 0.0018 - val_accuracy: 1.0000\n",
      "Epoch 16/100\n",
      "342/342 [==============================] - 48s 139ms/step - loss: 0.0017 - accuracy: 0.9995 - val_loss: 9.9261e-07 - val_accuracy: 1.0000\n",
      "Epoch 17/100\n",
      "342/342 [==============================] - 47s 138ms/step - loss: 0.0019 - accuracy: 0.9995 - val_loss: 6.3459e-07 - val_accuracy: 1.0000\n",
      "Epoch 18/100\n",
      "342/342 [==============================] - 48s 141ms/step - loss: 5.0075e-04 - accuracy: 0.9998 - val_loss: 1.2307e-05 - val_accuracy: 1.0000\n",
      "Epoch 19/100\n",
      "342/342 [==============================] - 48s 139ms/step - loss: 1.0307e-04 - accuracy: 1.0000 - val_loss: 6.4492e-07 - val_accuracy: 1.0000\n",
      "Epoch 20/100\n",
      "342/342 [==============================] - 47s 137ms/step - loss: 3.8968e-05 - accuracy: 1.0000 - val_loss: 1.1933e-06 - val_accuracy: 1.0000\n",
      "Epoch 21/100\n",
      "342/342 [==============================] - 47s 137ms/step - loss: 4.1092e-05 - accuracy: 1.0000 - val_loss: 1.3224e-06 - val_accuracy: 1.0000\n",
      "Epoch 22/100\n",
      "342/342 [==============================] - 48s 139ms/step - loss: 6.9197e-04 - accuracy: 0.9997 - val_loss: 2.0393e-05 - val_accuracy: 1.0000\n",
      "Epoch 23/100\n",
      "342/342 [==============================] - 47s 138ms/step - loss: 1.0716e-04 - accuracy: 1.0000 - val_loss: 6.9577e-06 - val_accuracy: 1.0000\n",
      "Epoch 24/100\n",
      "342/342 [==============================] - 47s 139ms/step - loss: 3.5199e-05 - accuracy: 1.0000 - val_loss: 5.1335e-06 - val_accuracy: 1.0000\n",
      "Epoch 25/100\n",
      "342/342 [==============================] - 47s 138ms/step - loss: 8.1372e-04 - accuracy: 0.9996 - val_loss: 4.1723e-08 - val_accuracy: 1.0000\n",
      "Epoch 26/100\n",
      "342/342 [==============================] - 47s 137ms/step - loss: 0.0487 - accuracy: 0.9922 - val_loss: 8.5831e-08 - val_accuracy: 1.0000\n",
      "Epoch 27/100\n",
      "342/342 [==============================] - 47s 137ms/step - loss: 0.0014 - accuracy: 0.9995 - val_loss: 3.6558e-08 - val_accuracy: 1.0000\n",
      "Epoch 28/100\n",
      "342/342 [==============================] - 50s 145ms/step - loss: 3.6752e-05 - accuracy: 1.0000 - val_loss: 3.3776e-08 - val_accuracy: 1.0000\n",
      "Epoch 29/100\n",
      "342/342 [==============================] - 47s 138ms/step - loss: 6.2524e-06 - accuracy: 1.0000 - val_loss: 4.0134e-08 - val_accuracy: 1.0000\n",
      "Epoch 30/100\n",
      "342/342 [==============================] - 47s 137ms/step - loss: 2.3740e-05 - accuracy: 1.0000 - val_loss: 3.9736e-10 - val_accuracy: 1.0000\n",
      "Epoch 31/100\n",
      "342/342 [==============================] - 48s 140ms/step - loss: 9.2556e-04 - accuracy: 0.9998 - val_loss: 0.0000e+00 - val_accuracy: 1.0000\n",
      "Epoch 32/100\n",
      "342/342 [==============================] - 48s 140ms/step - loss: 0.0012 - accuracy: 0.9995 - val_loss: 8.5831e-08 - val_accuracy: 1.0000\n",
      "Epoch 33/100\n",
      "342/342 [==============================] - 48s 139ms/step - loss: 3.7766e-05 - accuracy: 1.0000 - val_loss: 6.5962e-08 - val_accuracy: 1.0000\n",
      "Epoch 34/100\n",
      "342/342 [==============================] - 48s 141ms/step - loss: 5.9855e-04 - accuracy: 0.9997 - val_loss: 1.7142e-06 - val_accuracy: 1.0000\n",
      "Epoch 35/100\n",
      "342/342 [==============================] - 49s 144ms/step - loss: 0.0059 - accuracy: 0.9984 - val_loss: 2.7908e-05 - val_accuracy: 1.0000\n",
      "Epoch 36/100\n",
      "342/342 [==============================] - 48s 139ms/step - loss: 0.0036 - accuracy: 0.9994 - val_loss: 2.9566e-05 - val_accuracy: 1.0000\n",
      "Epoch 37/100\n",
      "342/342 [==============================] - 48s 141ms/step - loss: 5.6112e-05 - accuracy: 1.0000 - val_loss: 2.4907e-06 - val_accuracy: 1.0000\n",
      "Epoch 38/100\n",
      "342/342 [==============================] - 48s 140ms/step - loss: 1.0982e-04 - accuracy: 1.0000 - val_loss: 8.5314e-07 - val_accuracy: 1.0000\n",
      "Epoch 39/100\n",
      "342/342 [==============================] - 48s 139ms/step - loss: 2.0938e-05 - accuracy: 1.0000 - val_loss: 5.1896e-07 - val_accuracy: 1.0000\n",
      "Epoch 40/100\n",
      "342/342 [==============================] - 48s 139ms/step - loss: 1.0232e-05 - accuracy: 1.0000 - val_loss: 1.6054e-07 - val_accuracy: 1.0000\n",
      "Epoch 41/100\n",
      "342/342 [==============================] - 48s 141ms/step - loss: 4.2422e-06 - accuracy: 1.0000 - val_loss: 1.4067e-07 - val_accuracy: 1.0000\n",
      "Epoch 42/100\n",
      "342/342 [==============================] - 56s 163ms/step - loss: 2.6537e-06 - accuracy: 1.0000 - val_loss: 1.0173e-07 - val_accuracy: 1.0000\n",
      "Epoch 43/100\n",
      "342/342 [==============================] - 47s 138ms/step - loss: 1.6782e-04 - accuracy: 0.9999 - val_loss: 1.1563e-07 - val_accuracy: 1.0000\n",
      "Epoch 44/100\n",
      "342/342 [==============================] - 52s 151ms/step - loss: 0.0593 - accuracy: 0.9909 - val_loss: 0.0000e+00 - val_accuracy: 1.0000\n",
      "Epoch 45/100\n",
      "342/342 [==============================] - 47s 136ms/step - loss: 0.0010 - accuracy: 0.9998 - val_loss: 0.0000e+00 - val_accuracy: 1.0000\n",
      "Epoch 46/100\n",
      "342/342 [==============================] - 49s 144ms/step - loss: 1.6447e-05 - accuracy: 1.0000 - val_loss: 0.0000e+00 - val_accuracy: 1.0000\n",
      "Epoch 47/100\n",
      "342/342 [==============================] - 57s 166ms/step - loss: 1.3543e-05 - accuracy: 1.0000 - val_loss: 0.0000e+00 - val_accuracy: 1.0000\n",
      "Epoch 48/100\n",
      "342/342 [==============================] - 55s 159ms/step - loss: 3.9395e-04 - accuracy: 0.9999 - val_loss: 1.9828e-07 - val_accuracy: 1.0000\n",
      "Epoch 49/100\n",
      "342/342 [==============================] - 57s 165ms/step - loss: 0.0025 - accuracy: 0.9995 - val_loss: 0.0000e+00 - val_accuracy: 1.0000\n",
      "Epoch 50/100\n",
      "342/342 [==============================] - 56s 165ms/step - loss: 0.0014 - accuracy: 0.9995 - val_loss: 0.0000e+00 - val_accuracy: 1.0000\n",
      "Epoch 51/100\n",
      "342/342 [==============================] - 58s 170ms/step - loss: 2.0169e-04 - accuracy: 0.9999 - val_loss: 0.0000e+00 - val_accuracy: 1.0000\n",
      "Epoch 52/100\n",
      "342/342 [==============================] - 59s 173ms/step - loss: 5.1388e-04 - accuracy: 0.9998 - val_loss: 0.0000e+00 - val_accuracy: 1.0000\n",
      "Epoch 53/100\n",
      "342/342 [==============================] - 50s 147ms/step - loss: 5.6623e-05 - accuracy: 1.0000 - val_loss: 0.0000e+00 - val_accuracy: 1.0000\n",
      "Epoch 54/100\n"
     ]
    },
    {
     "name": "stdout",
     "output_type": "stream",
     "text": [
      "342/342 [==============================] - 47s 138ms/step - loss: 0.0022 - accuracy: 0.9995 - val_loss: 2.9802e-08 - val_accuracy: 1.0000\n",
      "Epoch 55/100\n",
      "342/342 [==============================] - 46s 135ms/step - loss: 0.0011 - accuracy: 0.9995 - val_loss: 3.0994e-08 - val_accuracy: 1.0000\n",
      "Epoch 56/100\n",
      "342/342 [==============================] - 46s 134ms/step - loss: 5.8737e-04 - accuracy: 0.9997 - val_loss: 0.0000e+00 - val_accuracy: 1.0000\n",
      "Epoch 57/100\n",
      "342/342 [==============================] - 46s 135ms/step - loss: 0.0018 - accuracy: 0.9995 - val_loss: 6.5168e-08 - val_accuracy: 1.0000\n",
      "Epoch 58/100\n",
      "342/342 [==============================] - 46s 135ms/step - loss: 0.0091 - accuracy: 0.9982 - val_loss: 0.0000e+00 - val_accuracy: 1.0000\n",
      "Epoch 59/100\n",
      "342/342 [==============================] - 46s 135ms/step - loss: 0.0218 - accuracy: 0.9962 - val_loss: 3.0005e-06 - val_accuracy: 1.0000\n",
      "Epoch 60/100\n",
      "342/342 [==============================] - 46s 135ms/step - loss: 0.0032 - accuracy: 0.9995 - val_loss: 5.3123e-06 - val_accuracy: 1.0000\n",
      "Epoch 61/100\n",
      "342/342 [==============================] - 46s 134ms/step - loss: 3.0141e-04 - accuracy: 0.9998 - val_loss: 1.3395e-06 - val_accuracy: 1.0000\n",
      "Epoch 62/100\n",
      "342/342 [==============================] - 46s 134ms/step - loss: 1.3986e-04 - accuracy: 0.9999 - val_loss: 5.7618e-07 - val_accuracy: 1.0000\n",
      "Epoch 63/100\n",
      "342/342 [==============================] - 46s 134ms/step - loss: 2.0193e-05 - accuracy: 1.0000 - val_loss: 1.6809e-07 - val_accuracy: 1.0000\n",
      "Epoch 64/100\n",
      "342/342 [==============================] - 46s 133ms/step - loss: 2.2920e-06 - accuracy: 1.0000 - val_loss: 1.4981e-07 - val_accuracy: 1.0000\n",
      "Epoch 65/100\n",
      "342/342 [==============================] - 47s 136ms/step - loss: 1.5822e-05 - accuracy: 1.0000 - val_loss: 5.4836e-08 - val_accuracy: 1.0000\n",
      "Epoch 66/100\n",
      "342/342 [==============================] - 46s 134ms/step - loss: 0.0062 - accuracy: 0.9991 - val_loss: 0.0000e+00 - val_accuracy: 1.0000\n",
      "Epoch 67/100\n",
      "342/342 [==============================] - 47s 137ms/step - loss: 1.5157e-05 - accuracy: 1.0000 - val_loss: 0.0000e+00 - val_accuracy: 1.0000\n",
      "Epoch 68/100\n",
      "342/342 [==============================] - 46s 135ms/step - loss: 4.2279e-04 - accuracy: 0.9997 - val_loss: 0.0000e+00 - val_accuracy: 1.0000\n",
      "Epoch 69/100\n",
      "342/342 [==============================] - 51s 148ms/step - loss: 0.0013 - accuracy: 0.9998 - val_loss: 0.0000e+00 - val_accuracy: 1.0000\n",
      "Epoch 70/100\n",
      "342/342 [==============================] - 48s 139ms/step - loss: 4.8197e-05 - accuracy: 1.0000 - val_loss: 0.0000e+00 - val_accuracy: 1.0000\n",
      "Epoch 71/100\n",
      "342/342 [==============================] - 46s 134ms/step - loss: 8.3859e-07 - accuracy: 1.0000 - val_loss: 0.0000e+00 - val_accuracy: 1.0000\n",
      "Epoch 72/100\n",
      "342/342 [==============================] - 47s 138ms/step - loss: 0.0084 - accuracy: 0.9987 - val_loss: 0.0000e+00 - val_accuracy: 1.0000\n",
      "Epoch 73/100\n",
      "342/342 [==============================] - 48s 141ms/step - loss: 0.0033 - accuracy: 0.9993 - val_loss: 0.0000e+00 - val_accuracy: 1.0000\n",
      "Epoch 74/100\n",
      "342/342 [==============================] - 46s 135ms/step - loss: 3.0724e-04 - accuracy: 0.9998 - val_loss: 0.0000e+00 - val_accuracy: 1.0000\n",
      "Epoch 75/100\n",
      "342/342 [==============================] - 47s 137ms/step - loss: 7.0900e-04 - accuracy: 0.9999 - val_loss: 0.0000e+00 - val_accuracy: 1.0000\n",
      "Epoch 76/100\n",
      "342/342 [==============================] - 47s 137ms/step - loss: 0.0082 - accuracy: 0.9990 - val_loss: 0.0000e+00 - val_accuracy: 1.0000\n",
      "Epoch 77/100\n",
      "342/342 [==============================] - 46s 134ms/step - loss: 0.0017 - accuracy: 0.9997 - val_loss: 0.0000e+00 - val_accuracy: 1.0000\n",
      "Epoch 78/100\n",
      "342/342 [==============================] - 46s 135ms/step - loss: 1.1914e-06 - accuracy: 1.0000 - val_loss: 0.0000e+00 - val_accuracy: 1.0000\n",
      "Epoch 79/100\n",
      "342/342 [==============================] - 46s 134ms/step - loss: 3.0425e-04 - accuracy: 0.9998 - val_loss: 0.0000e+00 - val_accuracy: 1.0000\n",
      "Epoch 80/100\n",
      "342/342 [==============================] - 46s 135ms/step - loss: 8.4562e-06 - accuracy: 1.0000 - val_loss: 0.0000e+00 - val_accuracy: 1.0000\n",
      "Epoch 81/100\n",
      "342/342 [==============================] - 46s 135ms/step - loss: 0.0046 - accuracy: 0.9992 - val_loss: 0.0000e+00 - val_accuracy: 1.0000\n",
      "Epoch 82/100\n",
      "342/342 [==============================] - 46s 136ms/step - loss: 0.0035 - accuracy: 0.9997 - val_loss: 0.0000e+00 - val_accuracy: 1.0000\n",
      "Epoch 83/100\n",
      "342/342 [==============================] - 46s 135ms/step - loss: 0.0027 - accuracy: 0.9993 - val_loss: 0.0000e+00 - val_accuracy: 1.0000\n",
      "Epoch 84/100\n",
      "342/342 [==============================] - 47s 136ms/step - loss: 2.1332e-08 - accuracy: 1.0000 - val_loss: 0.0000e+00 - val_accuracy: 1.0000\n",
      "Epoch 85/100\n",
      "342/342 [==============================] - 46s 135ms/step - loss: 7.0978e-07 - accuracy: 1.0000 - val_loss: 0.0000e+00 - val_accuracy: 1.0000\n",
      "Epoch 86/100\n",
      "342/342 [==============================] - 46s 135ms/step - loss: 1.5058e-08 - accuracy: 1.0000 - val_loss: 0.0000e+00 - val_accuracy: 1.0000\n",
      "Epoch 87/100\n",
      "342/342 [==============================] - 46s 135ms/step - loss: 1.1021e-07 - accuracy: 1.0000 - val_loss: 0.0000e+00 - val_accuracy: 1.0000\n",
      "Epoch 88/100\n",
      "342/342 [==============================] - 46s 134ms/step - loss: 3.1276e-05 - accuracy: 1.0000 - val_loss: 0.0000e+00 - val_accuracy: 1.0000\n",
      "Epoch 89/100\n",
      "342/342 [==============================] - 46s 135ms/step - loss: 1.7998e-07 - accuracy: 1.0000 - val_loss: 0.0000e+00 - val_accuracy: 1.0000\n",
      "Epoch 90/100\n",
      "342/342 [==============================] - 46s 135ms/step - loss: 1.3255e-07 - accuracy: 1.0000 - val_loss: 0.0000e+00 - val_accuracy: 1.0000\n",
      "Epoch 91/100\n",
      "342/342 [==============================] - 46s 135ms/step - loss: 6.3505e-05 - accuracy: 1.0000 - val_loss: 0.0000e+00 - val_accuracy: 1.0000\n",
      "Epoch 92/100\n",
      "342/342 [==============================] - 46s 135ms/step - loss: 3.3415e-07 - accuracy: 1.0000 - val_loss: 0.0000e+00 - val_accuracy: 1.0000\n",
      "Epoch 93/100\n",
      "342/342 [==============================] - 46s 135ms/step - loss: 3.8382e-06 - accuracy: 1.0000 - val_loss: 0.0000e+00 - val_accuracy: 1.0000\n",
      "Epoch 94/100\n",
      "342/342 [==============================] - 46s 135ms/step - loss: 4.4454e-09 - accuracy: 1.0000 - val_loss: 0.0000e+00 - val_accuracy: 1.0000\n",
      "Epoch 95/100\n",
      "342/342 [==============================] - 47s 137ms/step - loss: 5.9179e-06 - accuracy: 1.0000 - val_loss: 0.0000e+00 - val_accuracy: 1.0000\n",
      "Epoch 96/100\n",
      "342/342 [==============================] - 47s 137ms/step - loss: 0.0315 - accuracy: 0.9970 - val_loss: 0.0000e+00 - val_accuracy: 1.0000\n",
      "Epoch 97/100\n",
      "342/342 [==============================] - 47s 137ms/step - loss: 5.0945e-04 - accuracy: 0.9998 - val_loss: 0.0000e+00 - val_accuracy: 1.0000\n",
      "Epoch 98/100\n",
      "342/342 [==============================] - 47s 138ms/step - loss: 6.7702e-04 - accuracy: 0.9999 - val_loss: 0.0000e+00 - val_accuracy: 1.0000\n",
      "Epoch 99/100\n",
      "342/342 [==============================] - 50s 145ms/step - loss: 2.1028e-09 - accuracy: 1.0000 - val_loss: 0.0000e+00 - val_accuracy: 1.0000\n",
      "Epoch 100/100\n",
      "342/342 [==============================] - 46s 135ms/step - loss: 0.0023 - accuracy: 0.9995 - val_loss: 0.0000e+00 - val_accuracy: 1.0000\n"
     ]
    },
    {
     "data": {
      "text/plain": [
       "<keras.callbacks.History at 0x18e525c15e0>"
      ]
     },
     "execution_count": 18,
     "metadata": {},
     "output_type": "execute_result"
    }
   ],
   "source": [
    "model.fit_generator(x_train,steps_per_epoch = 342 , epochs = 100 , validation_data = x_test,validation_steps = 10)\n"
   ]
  },
  {
   "cell_type": "code",
   "execution_count": 19,
   "metadata": {},
   "outputs": [
    {
     "name": "stdout",
     "output_type": "stream",
     "text": [
      "Model: \"sequential\"\n",
      "_________________________________________________________________\n",
      " Layer (type)                Output Shape              Param #   \n",
      "=================================================================\n",
      " conv2d (Conv2D)             (None, 62, 62, 32)        896       \n",
      "                                                                 \n",
      " max_pooling2d (MaxPooling2D  (None, 31, 31, 32)       0         \n",
      " )                                                               \n",
      "                                                                 \n",
      " flatten (Flatten)           (None, 30752)             0         \n",
      "                                                                 \n",
      " dense (Dense)               (None, 128)               3936384   \n",
      "                                                                 \n",
      " dense_1 (Dense)             (None, 3)                 387       \n",
      "                                                                 \n",
      "=================================================================\n",
      "Total params: 3,937,667\n",
      "Trainable params: 3,937,667\n",
      "Non-trainable params: 0\n",
      "_________________________________________________________________\n"
     ]
    }
   ],
   "source": [
    "model.summary()"
   ]
  },
  {
   "cell_type": "code",
   "execution_count": 20,
   "metadata": {},
   "outputs": [],
   "source": [
    "model.save(\"shapes.h5\")"
   ]
  },
  {
   "cell_type": "code",
   "execution_count": 21,
   "metadata": {},
   "outputs": [],
   "source": [
    "from tensorflow.keras.models import load_model\n",
    "from tensorflow.keras.preprocessing import image"
   ]
  },
  {
   "cell_type": "code",
   "execution_count": 22,
   "metadata": {},
   "outputs": [],
   "source": [
    "model = load_model(\"shapes.h5\")"
   ]
  },
  {
   "cell_type": "code",
   "execution_count": 24,
   "metadata": {},
   "outputs": [],
   "source": [
    "img1 = image.load_img(r\"D:\\Smart Mathematics Tutor\\train\\circle\\100.png\", target_size = (64,64))"
   ]
  },
  {
   "cell_type": "code",
   "execution_count": 25,
   "metadata": {},
   "outputs": [
    {
     "data": {
      "text/plain": [
       "PIL.Image.Image"
      ]
     },
     "execution_count": 25,
     "metadata": {},
     "output_type": "execute_result"
    }
   ],
   "source": [
    "type(img1)"
   ]
  },
  {
   "cell_type": "code",
   "execution_count": 26,
   "metadata": {},
   "outputs": [],
   "source": [
    "x = image.img_to_array(img1)"
   ]
  },
  {
   "cell_type": "code",
   "execution_count": 27,
   "metadata": {},
   "outputs": [
    {
     "data": {
      "text/plain": [
       "(64, 64, 3)"
      ]
     },
     "execution_count": 27,
     "metadata": {},
     "output_type": "execute_result"
    }
   ],
   "source": [
    "x.shape"
   ]
  },
  {
   "cell_type": "code",
   "execution_count": 44,
   "metadata": {
    "scrolled": true
   },
   "outputs": [],
   "source": [
    "#xpred = np.argmax(model.predict(x))"
   ]
  },
  {
   "cell_type": "code",
   "execution_count": 30,
   "metadata": {},
   "outputs": [],
   "source": [
    "xpred=0"
   ]
  },
  {
   "cell_type": "code",
   "execution_count": 31,
   "metadata": {},
   "outputs": [],
   "source": [
    "img2 = image.load_img(r\"D:\\Smart Mathematics Tutor\\test\\s.png\", target_size  = (64,64))"
   ]
  },
  {
   "cell_type": "code",
   "execution_count": 32,
   "metadata": {},
   "outputs": [],
   "source": [
    "y = image.img_to_array(img2)"
   ]
  },
  {
   "cell_type": "code",
   "execution_count": 33,
   "metadata": {},
   "outputs": [
    {
     "data": {
      "text/plain": [
       "(64, 64, 3)"
      ]
     },
     "execution_count": 33,
     "metadata": {},
     "output_type": "execute_result"
    }
   ],
   "source": [
    "y.shape"
   ]
  },
  {
   "cell_type": "code",
   "execution_count": 34,
   "metadata": {},
   "outputs": [],
   "source": [
    "y = np.expand_dims(y, axis = 0)"
   ]
  },
  {
   "cell_type": "code",
   "execution_count": 35,
   "metadata": {},
   "outputs": [
    {
     "data": {
      "text/plain": [
       "(1, 64, 64, 3)"
      ]
     },
     "execution_count": 35,
     "metadata": {},
     "output_type": "execute_result"
    }
   ],
   "source": [
    "y.shape"
   ]
  },
  {
   "cell_type": "code",
   "execution_count": 36,
   "metadata": {},
   "outputs": [],
   "source": [
    "ypred = np.argmax(model.predict(y))"
   ]
  },
  {
   "cell_type": "code",
   "execution_count": 37,
   "metadata": {},
   "outputs": [
    {
     "data": {
      "text/plain": [
       "2"
      ]
     },
     "execution_count": 37,
     "metadata": {},
     "output_type": "execute_result"
    }
   ],
   "source": [
    "ypred"
   ]
  },
  {
   "cell_type": "code",
   "execution_count": 38,
   "metadata": {},
   "outputs": [],
   "source": [
    "index = ['circle', 'square', 'triangle']"
   ]
  },
  {
   "cell_type": "code",
   "execution_count": 39,
   "metadata": {},
   "outputs": [],
   "source": [
    "prediction = index[xpred]"
   ]
  },
  {
   "cell_type": "code",
   "execution_count": 40,
   "metadata": {},
   "outputs": [
    {
     "data": {
      "text/plain": [
       "'circle'"
      ]
     },
     "execution_count": 40,
     "metadata": {},
     "output_type": "execute_result"
    }
   ],
   "source": [
    "prediction"
   ]
  },
  {
   "cell_type": "code",
   "execution_count": 41,
   "metadata": {},
   "outputs": [],
   "source": [
    "prediction = index[ypred]"
   ]
  },
  {
   "cell_type": "code",
   "execution_count": 42,
   "metadata": {},
   "outputs": [
    {
     "data": {
      "text/plain": [
       "'triangle'"
      ]
     },
     "execution_count": 42,
     "metadata": {},
     "output_type": "execute_result"
    }
   ],
   "source": [
    "prediction"
   ]
  },
  {
   "cell_type": "code",
   "execution_count": 45,
   "metadata": {},
   "outputs": [
    {
     "name": "stdout",
     "output_type": "stream",
     "text": [
      "Requirement already satisfied: opencv-python in c:\\users\\pavan\\anaconda3\\lib\\site-packages (4.5.5.62)\n",
      "Requirement already satisfied: numpy>=1.17.3; python_version >= \"3.8\" in c:\\users\\pavan\\anaconda3\\lib\\site-packages (from opencv-python) (1.22.3)\n",
      "Note: you may need to restart the kernel to use updated packages.\n"
     ]
    }
   ],
   "source": [
    "pip install opencv-python"
   ]
  },
  {
   "cell_type": "code",
   "execution_count": 46,
   "metadata": {},
   "outputs": [
    {
     "name": "stdout",
     "output_type": "stream",
     "text": [
      "Requirement already satisfied: flask in c:\\users\\pavan\\anaconda3\\lib\\site-packages (1.1.2)\n",
      "Requirement already satisfied: Jinja2>=2.10.1 in c:\\users\\pavan\\anaconda3\\lib\\site-packages (from flask) (2.11.2)\n",
      "Requirement already satisfied: click>=5.1 in c:\\users\\pavan\\anaconda3\\lib\\site-packages (from flask) (7.1.2)\n",
      "Requirement already satisfied: Werkzeug>=0.15 in c:\\users\\pavan\\anaconda3\\lib\\site-packages (from flask) (1.0.1)\n",
      "Requirement already satisfied: itsdangerous>=0.24 in c:\\users\\pavan\\anaconda3\\lib\\site-packages (from flask) (1.1.0)\n",
      "Requirement already satisfied: MarkupSafe>=0.23 in c:\\users\\pavan\\anaconda3\\lib\\site-packages (from Jinja2>=2.10.1->flask) (1.1.1)\n",
      "Note: you may need to restart the kernel to use updated packages.\n"
     ]
    }
   ],
   "source": [
    "pip install flask"
   ]
  },
  {
   "cell_type": "code",
   "execution_count": 56,
   "metadata": {},
   "outputs": [],
   "source": [
    "from flask import Flask \n",
    "app=Flask(__name__)\n",
    "\n",
    "@app.route('/')\n",
    "def hello_world():\n",
    "    return \"HELLO_WORLD\"\n",
    "    \n",
    "if __name__=='__mine__':\n",
    "    app.run()"
   ]
  },
  {
   "cell_type": "code",
   "execution_count": null,
   "metadata": {},
   "outputs": [],
   "source": []
  },
  {
   "cell_type": "code",
   "execution_count": null,
   "metadata": {},
   "outputs": [],
   "source": []
  },
  {
   "cell_type": "code",
   "execution_count": null,
   "metadata": {},
   "outputs": [],
   "source": []
  }
 ],
 "metadata": {
  "kernelspec": {
   "display_name": "Python 3",
   "language": "python",
   "name": "python3"
  },
  "language_info": {
   "codemirror_mode": {
    "name": "ipython",
    "version": 3
   },
   "file_extension": ".py",
   "mimetype": "text/x-python",
   "name": "python",
   "nbconvert_exporter": "python",
   "pygments_lexer": "ipython3",
   "version": "3.8.5"
  }
 },
 "nbformat": 4,
 "nbformat_minor": 4
}
